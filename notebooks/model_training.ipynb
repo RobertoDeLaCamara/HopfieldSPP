{
 "cells": [
  {
   "cell_type": "markdown",
   "metadata": {},
   "source": [
    "# Steps to Implement the Model\n",
    "\n",
    "## Energy Function Translation\n",
    "The energy function can be defined as a custom loss function. The terms in the function (e.g., quadratic terms, constraints) are mapped to TensorFlow operations.\n",
    "\n",
    "## Neural Network Design\n",
    "- Variables Xij are treated as the output of the neural network.\n",
    "- The network has no hidden layers; the focus is on optimizing the variables Xij to minimize the energy.\n",
    "\n",
    "## Optimization\n",
    "- TensorFlow's gradient-based optimizers (e.g., Adam) are used to minimize the energy."
   ]
  },
  {
   "cell_type": "code",
   "execution_count": 1,
   "metadata": {},
   "outputs": [
    {
     "name": "stderr",
     "output_type": "stream",
     "text": [
      "2024-11-24 13:57:44.257600: E external/local_xla/xla/stream_executor/cuda/cuda_fft.cc:477] Unable to register cuFFT factory: Attempting to register factory for plugin cuFFT when one has already been registered\n",
      "WARNING: All log messages before absl::InitializeLog() is called are written to STDERR\n",
      "E0000 00:00:1732453064.299001   30099 cuda_dnn.cc:8310] Unable to register cuDNN factory: Attempting to register factory for plugin cuDNN when one has already been registered\n",
      "E0000 00:00:1732453064.307668   30099 cuda_blas.cc:1418] Unable to register cuBLAS factory: Attempting to register factory for plugin cuBLAS when one has already been registered\n",
      "2024-11-24 13:57:44.331909: I tensorflow/core/platform/cpu_feature_guard.cc:210] This TensorFlow binary is optimized to use available CPU instructions in performance-critical operations.\n",
      "To enable the following instructions: AVX2 FMA, in other operations, rebuild TensorFlow with the appropriate compiler flags.\n",
      "2024-11-24 13:57:51.443461: E external/local_xla/xla/stream_executor/cuda/cuda_driver.cc:152] failed call to cuInit: INTERNAL: CUDA error: Failed call to cuInit: UNKNOWN ERROR (303)\n"
     ]
    },
    {
     "ename": "IndexError",
     "evalue": "list index out of range",
     "output_type": "error",
     "traceback": [
      "\u001b[0;31m---------------------------------------------------------------------------\u001b[0m",
      "\u001b[0;31mIndexError\u001b[0m                                Traceback (most recent call last)",
      "Cell \u001b[0;32mIn[1], line 47\u001b[0m\n\u001b[1;32m     44\u001b[0m \u001b[38;5;28;01mfor\u001b[39;00m epoch \u001b[38;5;129;01min\u001b[39;00m \u001b[38;5;28mrange\u001b[39m(epochs):\n\u001b[1;32m     45\u001b[0m     \u001b[38;5;28;01mwith\u001b[39;00m tf\u001b[38;5;241m.\u001b[39mGradientTape() \u001b[38;5;28;01mas\u001b[39;00m tape:\n\u001b[1;32m     46\u001b[0m         \u001b[38;5;66;03m# Forward pass\u001b[39;00m\n\u001b[0;32m---> 47\u001b[0m         x \u001b[38;5;241m=\u001b[39m \u001b[43mmodel\u001b[49m\u001b[43m(\u001b[49m\u001b[43m)\u001b[49m\n\u001b[1;32m     48\u001b[0m         \u001b[38;5;66;03m# Compute energy\u001b[39;00m\n\u001b[1;32m     49\u001b[0m         energy \u001b[38;5;241m=\u001b[39m energy_function(x)\n",
      "File \u001b[0;32m~/.local/lib/python3.10/site-packages/keras/src/utils/traceback_utils.py:122\u001b[0m, in \u001b[0;36mfilter_traceback.<locals>.error_handler\u001b[0;34m(*args, **kwargs)\u001b[0m\n\u001b[1;32m    119\u001b[0m     filtered_tb \u001b[38;5;241m=\u001b[39m _process_traceback_frames(e\u001b[38;5;241m.\u001b[39m__traceback__)\n\u001b[1;32m    120\u001b[0m     \u001b[38;5;66;03m# To get the full stack trace, call:\u001b[39;00m\n\u001b[1;32m    121\u001b[0m     \u001b[38;5;66;03m# `keras.config.disable_traceback_filtering()`\u001b[39;00m\n\u001b[0;32m--> 122\u001b[0m     \u001b[38;5;28;01mraise\u001b[39;00m e\u001b[38;5;241m.\u001b[39mwith_traceback(filtered_tb) \u001b[38;5;28;01mfrom\u001b[39;00m \u001b[38;5;28;01mNone\u001b[39;00m\n\u001b[1;32m    123\u001b[0m \u001b[38;5;28;01mfinally\u001b[39;00m:\n\u001b[1;32m    124\u001b[0m     \u001b[38;5;28;01mdel\u001b[39;00m filtered_tb\n",
      "File \u001b[0;32m~/.local/lib/python3.10/site-packages/keras/src/layers/layer.py:1608\u001b[0m, in \u001b[0;36mCallSpec.__init__\u001b[0;34m(self, signature, args, kwargs)\u001b[0m\n\u001b[1;32m   1606\u001b[0m \u001b[38;5;28mself\u001b[39m\u001b[38;5;241m.\u001b[39mtensor_arguments_names \u001b[38;5;241m=\u001b[39m tensor_arg_names\n\u001b[1;32m   1607\u001b[0m \u001b[38;5;28mself\u001b[39m\u001b[38;5;241m.\u001b[39mnested_tensor_argument_names \u001b[38;5;241m=\u001b[39m nested_tensor_arg_names\n\u001b[0;32m-> 1608\u001b[0m \u001b[38;5;28mself\u001b[39m\u001b[38;5;241m.\u001b[39mfirst_arg \u001b[38;5;241m=\u001b[39m arg_dict[\u001b[43marg_names\u001b[49m\u001b[43m[\u001b[49m\u001b[38;5;241;43m0\u001b[39;49m\u001b[43m]\u001b[49m]\n\u001b[1;32m   1609\u001b[0m \u001b[38;5;28;01mif\u001b[39;00m \u001b[38;5;28mall\u001b[39m(\n\u001b[1;32m   1610\u001b[0m     backend\u001b[38;5;241m.\u001b[39mis_tensor(x) \u001b[38;5;28;01mfor\u001b[39;00m x \u001b[38;5;129;01min\u001b[39;00m \u001b[38;5;28mself\u001b[39m\u001b[38;5;241m.\u001b[39mtensor_arguments_dict\u001b[38;5;241m.\u001b[39mvalues()\n\u001b[1;32m   1611\u001b[0m ):\n\u001b[1;32m   1612\u001b[0m     \u001b[38;5;28mself\u001b[39m\u001b[38;5;241m.\u001b[39meager \u001b[38;5;241m=\u001b[39m \u001b[38;5;28;01mTrue\u001b[39;00m\n",
      "\u001b[0;31mIndexError\u001b[0m: list index out of range"
     ]
    }
   ],
   "source": [
    "import tensorflow as tf\n",
    "\n",
    "# Define constants (example values, adjust as per your problem)\n",
    "n = 5  # Number of nodes\n",
    "C = tf.random.uniform((n, n))  # Cost matrix\n",
    "mu1, mu2, mu3 = 1.0, 1.0, 1.0  # Penalty coefficients\n",
    "\n",
    "# Define the energy function as a custom loss\n",
    "def energy_function(x):\n",
    "    # Reshape x to a matrix form if needed\n",
    "    x = tf.reshape(x, (n, n))\n",
    "    \n",
    "    # Term 1: Cost minimization\n",
    "    term1 = mu1 * tf.reduce_sum(C * x)\n",
    "    \n",
    "    # Term 2: Constraints on row sums (e.g., sum of each row equals 1)\n",
    "    term2 = mu2 * tf.reduce_sum((tf.reduce_sum(x, axis=1) - 1) ** 2)\n",
    "    \n",
    "    # Term 3: Constraints on column sums (e.g., sum of each column equals 1)\n",
    "    term3 = mu3 * tf.reduce_sum((tf.reduce_sum(x, axis=0) - 1) ** 2)\n",
    "    \n",
    "    # Total energy\n",
    "    return term1 + term2 + term3\n",
    "\n",
    "# Define the model (single-layer network with trainable variables)\n",
    "class EnergyMinimizer(tf.keras.Model):\n",
    "    def __init__(self):\n",
    "        super(EnergyMinimizer, self).__init__()\n",
    "        # Trainable variables (x_ij)\n",
    "        self.x = tf.Variable(tf.random.uniform((n, n), 0, 1), trainable=True)\n",
    "\n",
    "    def call(self):\n",
    "        # Activation to keep variables between 0 and 1\n",
    "        return tf.nn.sigmoid(self.x)\n",
    "\n",
    "# Create the model\n",
    "model = EnergyMinimizer()\n",
    "\n",
    "# Define the optimizer\n",
    "optimizer = tf.keras.optimizers.Adam(learning_rate=0.01)\n",
    "\n",
    "# Training loop\n",
    "epochs = 500\n",
    "for epoch in range(epochs):\n",
    "    with tf.GradientTape() as tape:\n",
    "        # Forward pass\n",
    "        x = model()\n",
    "        # Compute energy\n",
    "        energy = energy_function(x)\n",
    "    \n",
    "    # Compute gradients and update variables\n",
    "    gradients = tape.gradient(energy, model.trainable_variables)\n",
    "    optimizer.apply_gradients(zip(gradients, model.trainable_variables))\n",
    "    \n",
    "    # Log progress\n",
    "    if epoch % 50 == 0 or epoch == epochs - 1:\n",
    "        print(f\"Epoch {epoch+1}, Energy: {energy.numpy():.4f}\")\n",
    "\n",
    "# Final solution\n",
    "solution = model().numpy()\n",
    "print(\"Optimized variables (x):\")\n",
    "print(solution)\n"
   ]
  }
 ],
 "metadata": {
  "kernelspec": {
   "display_name": "Python 3",
   "language": "python",
   "name": "python3"
  },
  "language_info": {
   "codemirror_mode": {
    "name": "ipython",
    "version": 3
   },
   "file_extension": ".py",
   "mimetype": "text/x-python",
   "name": "python",
   "nbconvert_exporter": "python",
   "pygments_lexer": "ipython3",
   "version": "3.10.12"
  }
 },
 "nbformat": 4,
 "nbformat_minor": 2
}
